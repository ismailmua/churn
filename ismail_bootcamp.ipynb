{
 "cells": [
  {
   "cell_type": "markdown",
   "metadata": {},
   "source": [
    "<h1><left><font color=purple> Bootcamp Project </font></left></h1>\n",
    "\n",
    "<h1><left><font color=blue> Telco customer churn </font></left></h1>\n",
    "\n",
    "**Instructions**\n",
    "\n",
    "We have done extensive EDA and built 2 supervised machine learning models with our telecom churn dataset, and derived some insights, but can we use the same dataset to answer a different question?\n",
    " \n",
    "* The head of marketing wants to understand how her team can optimize their marketing spend in acquiring new customers. The questions you will answering are:\n",
    "Can you determine which types of people marketing should focus on for their marketing campaigns?  (Assume that these customers live in the USA).\n",
    "In addition, how can marketing make their campaigns more effective?\n",
    "\n",
    "A short presentation of your analysis, key insights, and recommendations to the team as to how they can optimize their marketing efforts to attract new potential customers.\n",
    "\n",
    "<h5><right><font color=grey> Ismail Muallaoglu Feb 10, 2021 </font></right></h5>\n",
    "<h5><right><font color=grey> Hyper Island </font></right></h5>\n",
    "\n",
    "---"
   ]
  },
  {
   "cell_type": "code",
   "execution_count": 2,
   "metadata": {},
   "outputs": [],
   "source": [
    "import numpy as np\n",
    "import pandas as pd \n",
    "import matplotlib.pyplot as plt \n",
    "import seaborn as sns\n",
    "import warnings\n",
    "warnings.filterwarnings(\"ignore\")\n",
    "from pylab import rcParams\n",
    "%matplotlib inline\n",
    "\n",
    "sns.set_style('darkgrid') # To have a background of grids in the plots\n",
    "\n",
    "# Loading the CSV with pandas\n",
    "data = pd.read_csv('WA_Fn-UseC_-Telco-Customer-Churn.csv')"
   ]
  },
  {
   "cell_type": "code",
   "execution_count": 3,
   "metadata": {},
   "outputs": [
    {
     "data": {
      "text/html": [
       "<div>\n",
       "<style scoped>\n",
       "    .dataframe tbody tr th:only-of-type {\n",
       "        vertical-align: middle;\n",
       "    }\n",
       "\n",
       "    .dataframe tbody tr th {\n",
       "        vertical-align: top;\n",
       "    }\n",
       "\n",
       "    .dataframe thead th {\n",
       "        text-align: right;\n",
       "    }\n",
       "</style>\n",
       "<table border=\"1\" class=\"dataframe\">\n",
       "  <thead>\n",
       "    <tr style=\"text-align: right;\">\n",
       "      <th></th>\n",
       "      <th>customerID</th>\n",
       "      <th>gender</th>\n",
       "      <th>SeniorCitizen</th>\n",
       "      <th>Partner</th>\n",
       "      <th>Dependents</th>\n",
       "      <th>tenure</th>\n",
       "      <th>PhoneService</th>\n",
       "      <th>MultipleLines</th>\n",
       "      <th>InternetService</th>\n",
       "      <th>OnlineSecurity</th>\n",
       "      <th>...</th>\n",
       "      <th>DeviceProtection</th>\n",
       "      <th>TechSupport</th>\n",
       "      <th>StreamingTV</th>\n",
       "      <th>StreamingMovies</th>\n",
       "      <th>Contract</th>\n",
       "      <th>PaperlessBilling</th>\n",
       "      <th>PaymentMethod</th>\n",
       "      <th>MonthlyCharges</th>\n",
       "      <th>TotalCharges</th>\n",
       "      <th>Churn</th>\n",
       "    </tr>\n",
       "  </thead>\n",
       "  <tbody>\n",
       "    <tr>\n",
       "      <th>0</th>\n",
       "      <td>7590-VHVEG</td>\n",
       "      <td>Female</td>\n",
       "      <td>0</td>\n",
       "      <td>Yes</td>\n",
       "      <td>No</td>\n",
       "      <td>1</td>\n",
       "      <td>No</td>\n",
       "      <td>No phone service</td>\n",
       "      <td>DSL</td>\n",
       "      <td>No</td>\n",
       "      <td>...</td>\n",
       "      <td>No</td>\n",
       "      <td>No</td>\n",
       "      <td>No</td>\n",
       "      <td>No</td>\n",
       "      <td>Month-to-month</td>\n",
       "      <td>Yes</td>\n",
       "      <td>Electronic check</td>\n",
       "      <td>29.85</td>\n",
       "      <td>29.85</td>\n",
       "      <td>No</td>\n",
       "    </tr>\n",
       "    <tr>\n",
       "      <th>1</th>\n",
       "      <td>5575-GNVDE</td>\n",
       "      <td>Male</td>\n",
       "      <td>0</td>\n",
       "      <td>No</td>\n",
       "      <td>No</td>\n",
       "      <td>34</td>\n",
       "      <td>Yes</td>\n",
       "      <td>No</td>\n",
       "      <td>DSL</td>\n",
       "      <td>Yes</td>\n",
       "      <td>...</td>\n",
       "      <td>Yes</td>\n",
       "      <td>No</td>\n",
       "      <td>No</td>\n",
       "      <td>No</td>\n",
       "      <td>One year</td>\n",
       "      <td>No</td>\n",
       "      <td>Mailed check</td>\n",
       "      <td>56.95</td>\n",
       "      <td>1889.5</td>\n",
       "      <td>No</td>\n",
       "    </tr>\n",
       "    <tr>\n",
       "      <th>2</th>\n",
       "      <td>3668-QPYBK</td>\n",
       "      <td>Male</td>\n",
       "      <td>0</td>\n",
       "      <td>No</td>\n",
       "      <td>No</td>\n",
       "      <td>2</td>\n",
       "      <td>Yes</td>\n",
       "      <td>No</td>\n",
       "      <td>DSL</td>\n",
       "      <td>Yes</td>\n",
       "      <td>...</td>\n",
       "      <td>No</td>\n",
       "      <td>No</td>\n",
       "      <td>No</td>\n",
       "      <td>No</td>\n",
       "      <td>Month-to-month</td>\n",
       "      <td>Yes</td>\n",
       "      <td>Mailed check</td>\n",
       "      <td>53.85</td>\n",
       "      <td>108.15</td>\n",
       "      <td>Yes</td>\n",
       "    </tr>\n",
       "    <tr>\n",
       "      <th>3</th>\n",
       "      <td>7795-CFOCW</td>\n",
       "      <td>Male</td>\n",
       "      <td>0</td>\n",
       "      <td>No</td>\n",
       "      <td>No</td>\n",
       "      <td>45</td>\n",
       "      <td>No</td>\n",
       "      <td>No phone service</td>\n",
       "      <td>DSL</td>\n",
       "      <td>Yes</td>\n",
       "      <td>...</td>\n",
       "      <td>Yes</td>\n",
       "      <td>Yes</td>\n",
       "      <td>No</td>\n",
       "      <td>No</td>\n",
       "      <td>One year</td>\n",
       "      <td>No</td>\n",
       "      <td>Bank transfer (automatic)</td>\n",
       "      <td>42.30</td>\n",
       "      <td>1840.75</td>\n",
       "      <td>No</td>\n",
       "    </tr>\n",
       "    <tr>\n",
       "      <th>4</th>\n",
       "      <td>9237-HQITU</td>\n",
       "      <td>Female</td>\n",
       "      <td>0</td>\n",
       "      <td>No</td>\n",
       "      <td>No</td>\n",
       "      <td>2</td>\n",
       "      <td>Yes</td>\n",
       "      <td>No</td>\n",
       "      <td>Fiber optic</td>\n",
       "      <td>No</td>\n",
       "      <td>...</td>\n",
       "      <td>No</td>\n",
       "      <td>No</td>\n",
       "      <td>No</td>\n",
       "      <td>No</td>\n",
       "      <td>Month-to-month</td>\n",
       "      <td>Yes</td>\n",
       "      <td>Electronic check</td>\n",
       "      <td>70.70</td>\n",
       "      <td>151.65</td>\n",
       "      <td>Yes</td>\n",
       "    </tr>\n",
       "  </tbody>\n",
       "</table>\n",
       "<p>5 rows × 21 columns</p>\n",
       "</div>"
      ],
      "text/plain": [
       "   customerID  gender  SeniorCitizen Partner Dependents  tenure PhoneService  \\\n",
       "0  7590-VHVEG  Female              0     Yes         No       1           No   \n",
       "1  5575-GNVDE    Male              0      No         No      34          Yes   \n",
       "2  3668-QPYBK    Male              0      No         No       2          Yes   \n",
       "3  7795-CFOCW    Male              0      No         No      45           No   \n",
       "4  9237-HQITU  Female              0      No         No       2          Yes   \n",
       "\n",
       "      MultipleLines InternetService OnlineSecurity  ... DeviceProtection  \\\n",
       "0  No phone service             DSL             No  ...               No   \n",
       "1                No             DSL            Yes  ...              Yes   \n",
       "2                No             DSL            Yes  ...               No   \n",
       "3  No phone service             DSL            Yes  ...              Yes   \n",
       "4                No     Fiber optic             No  ...               No   \n",
       "\n",
       "  TechSupport StreamingTV StreamingMovies        Contract PaperlessBilling  \\\n",
       "0          No          No              No  Month-to-month              Yes   \n",
       "1          No          No              No        One year               No   \n",
       "2          No          No              No  Month-to-month              Yes   \n",
       "3         Yes          No              No        One year               No   \n",
       "4          No          No              No  Month-to-month              Yes   \n",
       "\n",
       "               PaymentMethod MonthlyCharges  TotalCharges Churn  \n",
       "0           Electronic check          29.85         29.85    No  \n",
       "1               Mailed check          56.95        1889.5    No  \n",
       "2               Mailed check          53.85        108.15   Yes  \n",
       "3  Bank transfer (automatic)          42.30       1840.75    No  \n",
       "4           Electronic check          70.70        151.65   Yes  \n",
       "\n",
       "[5 rows x 21 columns]"
      ]
     },
     "execution_count": 3,
     "metadata": {},
     "output_type": "execute_result"
    }
   ],
   "source": [
    "data.head()"
   ]
  },
  {
   "cell_type": "markdown",
   "metadata": {},
   "source": [
    "**Column definitions:**\n",
    "\n",
    "**CustomerID       :** *_CustomerID_*\\\n",
    "**gender           :** *_Whether the customer is a male or female_*\\\n",
    "**SeniorCitizen    :** *_Whether the customer is a senior citizen or not (1,0)_*\\\n",
    "**Partner          :** *_Whether the customer has a partner or not (Yes, No)_*\\\n",
    "**Dependents       :** *_Whether the customers has dependents or not (Yes, No)_*\\\n",
    "**tenure           :** *_Number of the months the customer has stayed with the company_*\\\n",
    "**PhoneService     :** *_Whether the customer has a phone service or not (Yes, No)_*\\\n",
    "**MultipleLines    :** *_Whether the customer has multiple lines or not (Yes, No, No phone service)_*\\\n",
    "**InternetService  :** *_Customer's internet service provider (DSL, Fiber optic, No)_*\\\n",
    "**OnlineSecurity   :** *_Whether the customer has online security or not (Yes, No, No internet service)_*\\\n",
    "**OnlineBackup     :** *_Whether the customer has online backup or not (Yes, No, No internet service)_*\\\n",
    "**DeviceProtection :** *_Whether the customer has device protection or not (Yes, No, No internet service)_*\\\n",
    "**TechSupport      :** *_Whether the customer has tech support or not (Yes, No, No internet service)_*\\\n",
    "**StreamingTV      :** *_Whether the customer has streaming TV or not (Yes, No, No internet service)_*\\\n",
    "**StreamingMovies  :** *_Whether the customer has streaming movies or not (Yes, No, No internet service)_*\\\n",
    "**Contract         :** *_The contract term of the customer (Month-to-month, One year, Two year)_*\\\n",
    "**PaperlessBilling :** *_Whether the customer has paperless billing or not (Yes, No)_*\\\n",
    "**PaymentMethod    :** *_The customer’s payment method (Electronic check, Mailed check, Bank transfer (automatic), Credit card (automatic))_*\\\n",
    "**MonthlyCharges   :** *_The amount charged to the customer monthly_*\\\n",
    "**TotalCharges     :** *_The total amount charged to the customer_*\\\n",
    "**Churn            :** *_Whether the customer churned or not (Yes or No)_*\n",
    "\n",
    "---"
   ]
  },
  {
   "cell_type": "markdown",
   "metadata": {},
   "source": [
    "<h3><left><font color=grey><span style='background :yellow'>Step 1: Exploratory Data Analysis: Perform descriptive statistics & visualization to get the sense of the data</span></font></left></h3>"
   ]
  },
  {
   "cell_type": "code",
   "execution_count": 4,
   "metadata": {},
   "outputs": [
    {
     "data": {
      "text/html": [
       "<div>\n",
       "<style scoped>\n",
       "    .dataframe tbody tr th:only-of-type {\n",
       "        vertical-align: middle;\n",
       "    }\n",
       "\n",
       "    .dataframe tbody tr th {\n",
       "        vertical-align: top;\n",
       "    }\n",
       "\n",
       "    .dataframe thead th {\n",
       "        text-align: right;\n",
       "    }\n",
       "</style>\n",
       "<table border=\"1\" class=\"dataframe\">\n",
       "  <thead>\n",
       "    <tr style=\"text-align: right;\">\n",
       "      <th></th>\n",
       "      <th>SeniorCitizen</th>\n",
       "      <th>tenure</th>\n",
       "      <th>MonthlyCharges</th>\n",
       "    </tr>\n",
       "  </thead>\n",
       "  <tbody>\n",
       "    <tr>\n",
       "      <th>count</th>\n",
       "      <td>7043.000000</td>\n",
       "      <td>7043.000000</td>\n",
       "      <td>7043.000000</td>\n",
       "    </tr>\n",
       "    <tr>\n",
       "      <th>mean</th>\n",
       "      <td>0.162147</td>\n",
       "      <td>32.371149</td>\n",
       "      <td>64.761692</td>\n",
       "    </tr>\n",
       "    <tr>\n",
       "      <th>std</th>\n",
       "      <td>0.368612</td>\n",
       "      <td>24.559481</td>\n",
       "      <td>30.090047</td>\n",
       "    </tr>\n",
       "    <tr>\n",
       "      <th>min</th>\n",
       "      <td>0.000000</td>\n",
       "      <td>0.000000</td>\n",
       "      <td>18.250000</td>\n",
       "    </tr>\n",
       "    <tr>\n",
       "      <th>25%</th>\n",
       "      <td>0.000000</td>\n",
       "      <td>9.000000</td>\n",
       "      <td>35.500000</td>\n",
       "    </tr>\n",
       "    <tr>\n",
       "      <th>50%</th>\n",
       "      <td>0.000000</td>\n",
       "      <td>29.000000</td>\n",
       "      <td>70.350000</td>\n",
       "    </tr>\n",
       "    <tr>\n",
       "      <th>75%</th>\n",
       "      <td>0.000000</td>\n",
       "      <td>55.000000</td>\n",
       "      <td>89.850000</td>\n",
       "    </tr>\n",
       "    <tr>\n",
       "      <th>max</th>\n",
       "      <td>1.000000</td>\n",
       "      <td>72.000000</td>\n",
       "      <td>118.750000</td>\n",
       "    </tr>\n",
       "  </tbody>\n",
       "</table>\n",
       "</div>"
      ],
      "text/plain": [
       "       SeniorCitizen       tenure  MonthlyCharges\n",
       "count    7043.000000  7043.000000     7043.000000\n",
       "mean        0.162147    32.371149       64.761692\n",
       "std         0.368612    24.559481       30.090047\n",
       "min         0.000000     0.000000       18.250000\n",
       "25%         0.000000     9.000000       35.500000\n",
       "50%         0.000000    29.000000       70.350000\n",
       "75%         0.000000    55.000000       89.850000\n",
       "max         1.000000    72.000000      118.750000"
      ]
     },
     "execution_count": 4,
     "metadata": {},
     "output_type": "execute_result"
    }
   ],
   "source": [
    "data.describe()"
   ]
  },
  {
   "cell_type": "markdown",
   "metadata": {},
   "source": [
    "We're lucky, there's no null values."
   ]
  },
  {
   "cell_type": "code",
   "execution_count": 5,
   "metadata": {},
   "outputs": [
    {
     "name": "stdout",
     "output_type": "stream",
     "text": [
      "<class 'pandas.core.frame.DataFrame'>\n",
      "RangeIndex: 7043 entries, 0 to 7042\n",
      "Data columns (total 21 columns):\n",
      " #   Column            Non-Null Count  Dtype  \n",
      "---  ------            --------------  -----  \n",
      " 0   customerID        7043 non-null   object \n",
      " 1   gender            7043 non-null   object \n",
      " 2   SeniorCitizen     7043 non-null   int64  \n",
      " 3   Partner           7043 non-null   object \n",
      " 4   Dependents        7043 non-null   object \n",
      " 5   tenure            7043 non-null   int64  \n",
      " 6   PhoneService      7043 non-null   object \n",
      " 7   MultipleLines     7043 non-null   object \n",
      " 8   InternetService   7043 non-null   object \n",
      " 9   OnlineSecurity    7043 non-null   object \n",
      " 10  OnlineBackup      7043 non-null   object \n",
      " 11  DeviceProtection  7043 non-null   object \n",
      " 12  TechSupport       7043 non-null   object \n",
      " 13  StreamingTV       7043 non-null   object \n",
      " 14  StreamingMovies   7043 non-null   object \n",
      " 15  Contract          7043 non-null   object \n",
      " 16  PaperlessBilling  7043 non-null   object \n",
      " 17  PaymentMethod     7043 non-null   object \n",
      " 18  MonthlyCharges    7043 non-null   float64\n",
      " 19  TotalCharges      7043 non-null   object \n",
      " 20  Churn             7043 non-null   object \n",
      "dtypes: float64(1), int64(2), object(18)\n",
      "memory usage: 1.1+ MB\n"
     ]
    }
   ],
   "source": [
    "data.info()"
   ]
  },
  {
   "cell_type": "code",
   "execution_count": 6,
   "metadata": {},
   "outputs": [
    {
     "data": {
      "text/plain": [
       "False"
      ]
     },
     "execution_count": 6,
     "metadata": {},
     "output_type": "execute_result"
    }
   ],
   "source": [
    "# I wonder if there's any duplicated customerID\n",
    "\n",
    "data['customerID'].duplicated().any()"
   ]
  },
  {
   "cell_type": "code",
   "execution_count": 7,
   "metadata": {},
   "outputs": [
    {
     "data": {
      "text/plain": [
       "False"
      ]
     },
     "execution_count": 7,
     "metadata": {},
     "output_type": "execute_result"
    }
   ],
   "source": [
    "# Taking a look if there's a missing value\n",
    "\n",
    "data.isnull().values.any()"
   ]
  },
  {
   "cell_type": "code",
   "execution_count": 256,
   "metadata": {},
   "outputs": [
    {
     "data": {
      "image/png": "[encoded data removed]",
      "text/plain": [
       "<Figure size 360x360 with 1 Axes>"
      ]
     },
     "metadata": {},
     "output_type": "display_data"
    }
   ],
   "source": [
    "# Data to plot\n",
    "labels = 'Active', 'Churned'\n",
    "sizes = data['Churn'].value_counts(sort = True)\n",
    "colors = [\"grey\",\"purple\"] \n",
    "rcParams['figure.figsize'] = 5,5\n",
    "explode = (0, 0.1)  # explode 1st slice\n",
    "# Plot\n",
    "plt.pie(sizes, explode=explode, labels=labels, colors=colors,\n",
    "        autopct='%1.1f%%', shadow=True, startangle=270,)\n",
    "plt.title('Percentage of Churn in Dataset')\n",
    "plt.savefig('Churn_percentage.png')\n",
    "plt.show()"
   ]
  },
  {
   "cell_type": "markdown",
   "metadata": {},
   "source": [
    "In detail we have a look at the target feature, the actual “Churn”. Therefore we plot it accordingly and see that 26,5% Of the total amount of customer churn. This is important to know so we have the same proportion of Churned Customers to Non-Churned Customers in our training data."
   ]
  },
  {
   "cell_type": "markdown",
   "metadata": {},
   "source": [
    "<h3><left><font color=grey><span style='background :yellow'>Step 2: Data Preparation | Cleaning</span></font></left></h3>"
   ]
  },
  {
   "cell_type": "markdown",
   "metadata": {},
   "source": [
    "Since we looked before that there's no duplicated CustomerID and it's not a relevant feature to our analysis, we will drop it from the dataset."
   ]
  },
  {
   "cell_type": "code",
   "execution_count": 9,
   "metadata": {},
   "outputs": [],
   "source": [
    "data.drop(['customerID'], axis=1, inplace=True)"
   ]
  },
  {
   "cell_type": "code",
   "execution_count": 10,
   "metadata": {},
   "outputs": [],
   "source": [
    "# Convert categorical columns' data types to category\n",
    "\n",
    "category_cols = [\"gender\", \"SeniorCitizen\", \"Partner\", \"Dependents\", \"PhoneService\", \"MultipleLines\", \"InternetService\",\\\n",
    "                 \"OnlineSecurity\", \"OnlineBackup\", \"DeviceProtection\", \"TechSupport\", \"StreamingTV\", \"StreamingMovies\",\\\n",
    "                 \"Contract\", \"PaperlessBilling\", \"PaymentMethod\", \"Churn\"]\n",
    "\n",
    "data[category_cols] = data[category_cols].astype('category')"
   ]
  },
  {
   "cell_type": "code",
   "execution_count": 11,
   "metadata": {},
   "outputs": [],
   "source": [
    "# Convert total charges to float;\n",
    "    \n",
    "    # since it doesn't allow us to do it for string, we need to check whether there's empty strings\n",
    "\n",
    "empty_total_charges = data[data[\"TotalCharges\"] == \" \"] \n",
    "    # If we look at empty_total_charges table, we see the reason is all tenure records are 0. I'll replace totals with 0.\n",
    "\n",
    "data[\"TotalCharges\"] = data[\"TotalCharges\"].replace(\" \", 0)    \n",
    "\n",
    "    # Now we can convert total charges to float\n",
    "    \n",
    "data[\"TotalCharges\"] = data[\"TotalCharges\"].astype('float64')"
   ]
  },
  {
   "cell_type": "code",
   "execution_count": 12,
   "metadata": {},
   "outputs": [],
   "source": [
    "# We must reduce categorical columns to binaries\n",
    "\n",
    "data[\"MultipleLines\"] = data[\"MultipleLines\"].replace({'No phone service' : 'No'})\n",
    "data[\"OnlineSecurity\"] = data[\"OnlineSecurity\"].replace({'No internet service' : 'No'})\n",
    "data[\"OnlineBackup\"] = data[\"OnlineBackup\"].replace({'No internet service' : 'No'})\n",
    "data[\"DeviceProtection\"] = data[\"DeviceProtection\"].replace({'No internet service' : 'No'})\n",
    "data[\"TechSupport\"] = data[\"TechSupport\"].replace({'No internet service' : 'No'})\n",
    "data[\"StreamingTV\"] = data[\"StreamingTV\"].replace({'No internet service' : 'No'})\n",
    "data[\"StreamingMovies\"] = data[\"StreamingMovies\"].replace({'No internet service' : 'No'})\n",
    "data[\"SeniorCitizen\"] = data[\"SeniorCitizen\"].replace({1:\"Yes\", 0:\"No\"})"
   ]
  },
  {
   "cell_type": "code",
   "execution_count": 13,
   "metadata": {},
   "outputs": [
    {
     "name": "stdout",
     "output_type": "stream",
     "text": [
      "<class 'pandas.core.frame.DataFrame'>\n",
      "RangeIndex: 7043 entries, 0 to 7042\n",
      "Data columns (total 20 columns):\n",
      " #   Column            Non-Null Count  Dtype   \n",
      "---  ------            --------------  -----   \n",
      " 0   gender            7043 non-null   category\n",
      " 1   SeniorCitizen     7043 non-null   category\n",
      " 2   Partner           7043 non-null   category\n",
      " 3   Dependents        7043 non-null   category\n",
      " 4   tenure            7043 non-null   int64   \n",
      " 5   PhoneService      7043 non-null   category\n",
      " 6   MultipleLines     7043 non-null   category\n",
      " 7   InternetService   7043 non-null   category\n",
      " 8   OnlineSecurity    7043 non-null   category\n",
      " 9   OnlineBackup      7043 non-null   category\n",
      " 10  DeviceProtection  7043 non-null   category\n",
      " 11  TechSupport       7043 non-null   category\n",
      " 12  StreamingTV       7043 non-null   category\n",
      " 13  StreamingMovies   7043 non-null   category\n",
      " 14  Contract          7043 non-null   category\n",
      " 15  PaperlessBilling  7043 non-null   category\n",
      " 16  PaymentMethod     7043 non-null   category\n",
      " 17  MonthlyCharges    7043 non-null   float64 \n",
      " 18  TotalCharges      7043 non-null   float64 \n",
      " 19  Churn             7043 non-null   category\n",
      "dtypes: category(17), float64(2), int64(1)\n",
      "memory usage: 283.8 KB\n"
     ]
    }
   ],
   "source": [
    "# The datatypes of the columns need to be changed again\n",
    "\n",
    "data[category_cols] = data[category_cols].astype('category')\n",
    "\n",
    "data.info()"
   ]
  },
  {
   "cell_type": "code",
   "execution_count": 14,
   "metadata": {},
   "outputs": [],
   "source": [
    "from sklearn.preprocessing import LabelBinarizer\n",
    "\n",
    "lb = LabelBinarizer()\n",
    "\n",
    "data['Male_flag'] = lb.fit_transform(data['gender'])\n",
    "data['SeniorCitizen_flag'] = lb.fit_transform(data['SeniorCitizen'])\n",
    "data['Partner_flag'] = lb.fit_transform(data['Partner'])\n",
    "data['Dependents_flag'] = lb.fit_transform(data['Dependents'])\n",
    "data['PhoneService_flag'] = lb.fit_transform(data['PhoneService'])\n",
    "data['MultipleLines_flag'] = lb.fit_transform(data['MultipleLines'])\n",
    "data['DSL_flag'] = lb.fit_transform(data['InternetService'])[:,0]\n",
    "data['fiber_flag'] = lb.fit_transform(data['InternetService'])[:,1]\n",
    "data['InternetService_No'] = lb.fit_transform(data['InternetService'])[:,2]\n",
    "data['OnlineSecurity_flag'] = lb.fit_transform(data['OnlineSecurity'])\n",
    "data['OnlineBackup_flag'] = lb.fit_transform(data['OnlineBackup'])\n",
    "data['DeviceProtection_flag'] = lb.fit_transform(data['DeviceProtection'])\n",
    "data['TechSupport_flag'] = lb.fit_transform(data['TechSupport'])\n",
    "data['StreamingTV_flag'] = lb.fit_transform(data['StreamingTV'])\n",
    "data['StreamingMovies_flag'] = lb.fit_transform(data['StreamingMovies'])\n",
    "data['Contract_Month'] = lb.fit_transform(data['Contract'])[:,0]\n",
    "data['Contract_One'] = lb.fit_transform(data['Contract'])[:,1]\n",
    "data['Contract_Two'] = lb.fit_transform(data['Contract'])[:,2]\n",
    "data['PaperlessBilling_flag'] = lb.fit_transform(data['PaperlessBilling'])\n",
    "data['Electronic check'] = lb.fit_transform(data['PaymentMethod'])[:,2]\n",
    "data['Mailed check'] = lb.fit_transform(data['PaymentMethod'])[:,3]\n",
    "data['Bank transfer (automatic)'] = lb.fit_transform(data['PaymentMethod'])[:,0]\n",
    "data['Credit card (automatic)'] = lb.fit_transform(data['PaymentMethod'])[:,1]\n",
    "data['Churn_flag'] = lb.fit_transform(data['Churn'])"
   ]
  },
  {
   "cell_type": "markdown",
   "metadata": {},
   "source": [
    "<h3><left><font color=grey><span style='background :yellow'>Step 3: Model Evaluation | AUC</span></font></left></h3>\n"
   ]
  },
  {
   "cell_type": "markdown",
   "metadata": {},
   "source": [
    "**Once you collected all the candidate predictors, you can build a logistic regression model**\\\n",
    "Drawbacks of models with many variables:\\\n",
    "*Over-fitting*\\\n",
    "*Hard to maintain or implement*\\\n",
    "*Hard to interpret, multi-collinearity*\n",
    "\n",
    "That's why we'll try to reach the maximum AUC with the least variables used."
   ]
  },
  {
   "cell_type": "markdown",
   "metadata": {},
   "source": [
    "**Procedure**\\\n",
    "*Empty set*\\\n",
    "*Find best variable v1*\\\n",
    "*Find best variable v2 in combination with v1*\\\n",
    "*Find best variable v3 in combination with v1, v2*\\\n",
    "*...*\\\n",
    "*(Until all variables are added or until predefined number of variables is added)*"
   ]
  },
  {
   "cell_type": "code",
   "execution_count": 15,
   "metadata": {},
   "outputs": [],
   "source": [
    "# Import the linear_model and roc_auc_score modules\n",
    "from sklearn import linear_model\n",
    "from sklearn.metrics import roc_auc_score\n",
    "\n",
    "basetable = data[[\"Male_flag\", \"SeniorCitizen_flag\", \"Partner_flag\", \"Dependents_flag\", \"PhoneService_flag\",\\\n",
    "             \"MultipleLines_flag\", \"DSL_flag\", \"fiber_flag\", \"InternetService_No\", \"OnlineSecurity_flag\",\\\n",
    "             \"OnlineBackup_flag\", \"DeviceProtection_flag\", \"TechSupport_flag\", \"StreamingTV_flag\", \"StreamingMovies_flag\",\\\n",
    "             \"Contract_Month\", \"Contract_One\", \"Contract_Two\", \"PaperlessBilling_flag\", \"Electronic check\",\\\n",
    "             \"Mailed check\", \"Bank transfer (automatic)\", \"Credit card (automatic)\",\\\n",
    "             \"tenure\", \"MonthlyCharges\", \"TotalCharges\", \"Churn_flag\"]]\n",
    "\n",
    "variables = basetable.drop(labels = [\"Churn_flag\"],axis = 1)\n",
    "target = basetable.Churn_flag"
   ]
  },
  {
   "cell_type": "code",
   "execution_count": 16,
   "metadata": {},
   "outputs": [],
   "source": [
    "# function to calculate AUC\n",
    "\n",
    "def auc(variables, target, basetable):\n",
    "    X = basetable[variables]\n",
    "    Y = basetable[target]\n",
    "    logreg = linear_model.LogisticRegression()\n",
    "    logreg.fit(X, Y)\n",
    "    predictions = logreg.predict_proba(X)[:,1]\n",
    "    auc = roc_auc_score(Y, predictions)\n",
    "    return(auc)"
   ]
  },
  {
   "cell_type": "code",
   "execution_count": 17,
   "metadata": {},
   "outputs": [],
   "source": [
    "# Function to calculate next best variable\n",
    "\n",
    "def next_best(current_variables,candidate_variables, target, basetable):\n",
    "    best_auc = -1\n",
    "    best_variable = None\n",
    "    \n",
    "    # Calculate the auc score of adding v to the current variables\n",
    "    for v in candidate_variables:\n",
    "        auc_v = auc(current_variables + [v],target, basetable)\n",
    "        \n",
    "        # Update best_auc and best_variable adding v led to a better auc score\n",
    "        if auc_v >= best_auc:\n",
    "            best_auc = auc_v\n",
    "            best_variable = v\n",
    "            \n",
    "    return best_variable"
   ]
  },
  {
   "cell_type": "code",
   "execution_count": 18,
   "metadata": {
    "scrolled": true
   },
   "outputs": [
    {
     "name": "stdout",
     "output_type": "stream",
     "text": [
      "['tenure', 'fiber_flag', 'Contract_Month', 'InternetService_No', 'Electronic check', 'OnlineSecurity_flag', 'PaperlessBilling_flag', 'StreamingMovies_flag', 'TechSupport_flag', 'Contract_Two', 'TotalCharges', 'PhoneService_flag', 'MultipleLines_flag', 'OnlineBackup_flag', 'StreamingTV_flag', 'SeniorCitizen_flag', 'Credit card (automatic)', 'Mailed check', 'Male_flag', 'Dependents_flag', 'Contract_One', 'Partner_flag', 'DeviceProtection_flag', 'DSL_flag', 'Bank transfer (automatic)', 'MonthlyCharges']\n"
     ]
    }
   ],
   "source": [
    "candidate_variables = list(basetable.columns.values)\n",
    "candidate_variables.remove(\"Churn_flag\")\n",
    "current_variables = []\n",
    "target = [\"Churn_flag\"]\n",
    "max_number_variables = len(candidate_variables)\n",
    "number_iterations = min(max_number_variables, len(candidate_variables))\n",
    "for i in range(0, number_iterations):\n",
    "    next_variable = next_best(current_variables, candidate_variables, target, basetable)\n",
    "    current_variables = current_variables + [next_variable]\n",
    "    candidate_variables.remove(next_variable)\n",
    "print(current_variables)"
   ]
  },
  {
   "cell_type": "markdown",
   "metadata": {},
   "source": [
    "**These variables stand in line from best to least**"
   ]
  },
  {
   "cell_type": "code",
   "execution_count": 19,
   "metadata": {},
   "outputs": [
    {
     "name": "stdout",
     "output_type": "stream",
     "text": [
      "0.74\n"
     ]
    }
   ],
   "source": [
    "# Calculate the AUC of the model using 'tenure' only\n",
    "auc_tenure = auc([\"tenure\"], [\"Churn_flag\"], basetable)\n",
    "print(round(auc_tenure,2))"
   ]
  },
  {
   "cell_type": "code",
   "execution_count": 20,
   "metadata": {},
   "outputs": [
    {
     "name": "stdout",
     "output_type": "stream",
     "text": [
      "0.81\n"
     ]
    }
   ],
   "source": [
    "# Calculate the AUC of the model using 'tenure', 'fiber_flag' \n",
    "auc_first2 = auc(['tenure', 'fiber_flag'], [\"Churn_flag\"], basetable)\n",
    "print(round(auc_first2,2))"
   ]
  },
  {
   "cell_type": "code",
   "execution_count": 21,
   "metadata": {},
   "outputs": [
    {
     "name": "stdout",
     "output_type": "stream",
     "text": [
      "0.83\n"
     ]
    }
   ],
   "source": [
    "# Calculate the AUC of the model using 'tenure', 'fiber_flag', 'Contract_Month' \n",
    "auc_first3 = auc(['tenure', 'fiber_flag', 'Contract_Month'], [\"Churn_flag\"], basetable)\n",
    "print(round(auc_first3,2))"
   ]
  },
  {
   "cell_type": "code",
   "execution_count": 22,
   "metadata": {},
   "outputs": [
    {
     "name": "stdout",
     "output_type": "stream",
     "text": [
      "0.83\n"
     ]
    }
   ],
   "source": [
    "# Calculate the AUC of the model using 'tenure', 'fiber_flag', 'Contract_Month', 'InternetService_No' \n",
    "auc_first4 = auc(['tenure', 'fiber_flag', 'Contract_Month', 'InternetService_No'], [\"Churn_flag\"], basetable)\n",
    "print(round(auc_first4,2))"
   ]
  },
  {
   "cell_type": "code",
   "execution_count": 23,
   "metadata": {},
   "outputs": [
    {
     "name": "stdout",
     "output_type": "stream",
     "text": [
      "AUC of the model using the first 1 best variable is: 0.74\n",
      "AUC of the model using the first 2 best variable is: 0.81\n",
      "AUC of the model using the first 3 best variable is: 0.83\n",
      "AUC of the model using the first 4 best variable is: 0.83\n",
      "AUC of the model using the first 5 best variable is: 0.84\n",
      "AUC of the model using the first 6 best variable is: 0.84\n",
      "AUC of the model using the first 7 best variable is: 0.84\n",
      "AUC of the model using the first 8 best variable is: 0.84\n",
      "AUC of the model using the first 9 best variable is: 0.84\n",
      "AUC of the model using the first 10 best variable is: 0.84\n",
      "AUC of the model using the first 11 best variable is: 0.84\n",
      "AUC of the model using the first 12 best variable is: 0.85\n",
      "AUC of the model using the first 13 best variable is: 0.85\n",
      "AUC of the model using the first 14 best variable is: 0.85\n",
      "AUC of the model using the first 15 best variable is: 0.85\n",
      "AUC of the model using the first 16 best variable is: 0.85\n",
      "AUC of the model using the first 17 best variable is: 0.85\n",
      "AUC of the model using the first 18 best variable is: 0.85\n",
      "AUC of the model using the first 19 best variable is: 0.85\n",
      "AUC of the model using the first 20 best variable is: 0.85\n",
      "AUC of the model using the first 21 best variable is: 0.85\n",
      "AUC of the model using the first 22 best variable is: 0.85\n",
      "AUC of the model using the first 23 best variable is: 0.85\n",
      "AUC of the model using the first 24 best variable is: 0.85\n",
      "AUC of the model using the first 25 best variable is: 0.85\n",
      "AUC of the model using the first 26 best variable is: 0.85\n"
     ]
    }
   ],
   "source": [
    "print(\"AUC of the model using the first 1 best variable is: \"\\\n",
    "      + str(round(auc(current_variables[0:1], [\"Churn_flag\"], basetable),2)))\n",
    "print(\"AUC of the model using the first 2 best variable is: \"\\\n",
    "      + str(round(auc(current_variables[0:2], [\"Churn_flag\"], basetable),2)))\n",
    "print(\"AUC of the model using the first 3 best variable is: \"\\\n",
    "      + str(round(auc(current_variables[0:3], [\"Churn_flag\"], basetable),2)))\n",
    "print(\"AUC of the model using the first 4 best variable is: \"\\\n",
    "      + str(round(auc(current_variables[0:4], [\"Churn_flag\"], basetable),2)))\n",
    "print(\"AUC of the model using the first 5 best variable is: \"\\\n",
    "      + str(round(auc(current_variables[0:5], [\"Churn_flag\"], basetable),2)))\n",
    "print(\"AUC of the model using the first 6 best variable is: \"\\\n",
    "      + str(round(auc(current_variables[0:6], [\"Churn_flag\"], basetable),2)))\n",
    "print(\"AUC of the model using the first 7 best variable is: \"\\\n",
    "      + str(round(auc(current_variables[0:7], [\"Churn_flag\"], basetable),2)))\n",
    "print(\"AUC of the model using the first 8 best variable is: \"\\\n",
    "      + str(round(auc(current_variables[0:8], [\"Churn_flag\"], basetable),2)))\n",
    "print(\"AUC of the model using the first 9 best variable is: \"\\\n",
    "      + str(round(auc(current_variables[0:9], [\"Churn_flag\"], basetable),2)))\n",
    "print(\"AUC of the model using the first 10 best variable is: \"\\\n",
    "      + str(round(auc(current_variables[0:10], [\"Churn_flag\"], basetable),2)))\n",
    "print(\"AUC of the model using the first 11 best variable is: \"\\\n",
    "      + str(round(auc(current_variables[0:11], [\"Churn_flag\"], basetable),2)))\n",
    "print(\"AUC of the model using the first 12 best variable is: \"\\\n",
    "      + str(round(auc(current_variables[0:12], [\"Churn_flag\"], basetable),2)))\n",
    "print(\"AUC of the model using the first 13 best variable is: \"\\\n",
    "      + str(round(auc(current_variables[0:13], [\"Churn_flag\"], basetable),2)))\n",
    "print(\"AUC of the model using the first 14 best variable is: \"\\\n",
    "      + str(round(auc(current_variables[0:14], [\"Churn_flag\"], basetable),2)))\n",
    "print(\"AUC of the model using the first 15 best variable is: \"\\\n",
    "      + str(round(auc(current_variables[0:15], [\"Churn_flag\"], basetable),2)))\n",
    "print(\"AUC of the model using the first 16 best variable is: \"\\\n",
    "      + str(round(auc(current_variables[0:16], [\"Churn_flag\"], basetable),2)))\n",
    "print(\"AUC of the model using the first 17 best variable is: \"\\\n",
    "      + str(round(auc(current_variables[0:17], [\"Churn_flag\"], basetable),2)))\n",
    "print(\"AUC of the model using the first 18 best variable is: \"\\\n",
    "      + str(round(auc(current_variables[0:18], [\"Churn_flag\"], basetable),2)))\n",
    "print(\"AUC of the model using the first 19 best variable is: \"\\\n",
    "      + str(round(auc(current_variables[0:19], [\"Churn_flag\"], basetable),2)))\n",
    "print(\"AUC of the model using the first 20 best variable is: \"\\\n",
    "      + str(round(auc(current_variables[0:20], [\"Churn_flag\"], basetable),2)))\n",
    "print(\"AUC of the model using the first 21 best variable is: \"\\\n",
    "      + str(round(auc(current_variables[0:21], [\"Churn_flag\"], basetable),2)))\n",
    "print(\"AUC of the model using the first 22 best variable is: \"\\\n",
    "      + str(round(auc(current_variables[0:22], [\"Churn_flag\"], basetable),2)))\n",
    "print(\"AUC of the model using the first 23 best variable is: \"\\\n",
    "      + str(round(auc(current_variables[0:23], [\"Churn_flag\"], basetable),2)))\n",
    "print(\"AUC of the model using the first 24 best variable is: \"\\\n",
    "      + str(round(auc(current_variables[0:24], [\"Churn_flag\"], basetable),2)))\n",
    "print(\"AUC of the model using the first 25 best variable is: \"\\\n",
    "      + str(round(auc(current_variables[0:25], [\"Churn_flag\"], basetable),2)))\n",
    "print(\"AUC of the model using the first 26 best variable is: \"\\\n",
    "      + str(round(auc(current_variables[0:26], [\"Churn_flag\"], basetable),2)))"
   ]
  },
  {
   "cell_type": "markdown",
   "metadata": {},
   "source": [
    "fiber_flag -> it turns 1 if a customer has internet service and it's fiber\n",
    "InternetService_No -> if a customer has no internet service. \n",
    "\n",
    "if fiber is 1, the other should be 0 or reverse\n",
    "That's why I take the first 3 variables for my final model."
   ]
  },
  {
   "cell_type": "markdown",
   "metadata": {},
   "source": [
    "<h3><left><font color=grey><span style='background :yellow'>Step 4: Partitioning</span></font></left></h3>"
   ]
  },
  {
   "cell_type": "code",
   "execution_count": 24,
   "metadata": {},
   "outputs": [],
   "source": [
    "from sklearn.model_selection import train_test_split\n",
    "\n",
    "# Create dataframes with variables and target\n",
    "X = basetable[['tenure', 'fiber_flag', 'Contract_Month', 'InternetService_No', 'Electronic check', 'OnlineSecurity_flag',\\\n",
    "               'PaperlessBilling_flag', 'StreamingMovies_flag', 'TechSupport_flag', 'Contract_Two', 'TotalCharges',\\\n",
    "               'PhoneService_flag', 'MultipleLines_flag', 'OnlineBackup_flag', 'StreamingTV_flag', 'SeniorCitizen_flag',\\\n",
    "               'Credit card (automatic)', 'Mailed check', 'Male_flag', 'Dependents_flag', 'Contract_One', 'Partner_flag',\\\n",
    "               'DeviceProtection_flag', 'DSL_flag', 'Bank transfer (automatic)', 'MonthlyCharges']]\n",
    "Y = basetable.Churn_flag\n",
    "\n",
    "# Carry out 50-50 partititioning with stratification\n",
    "X_train, X_test, Y_train, Y_test = train_test_split(X, Y, test_size=0.20, stratify = Y)"
   ]
  },
  {
   "cell_type": "code",
   "execution_count": 25,
   "metadata": {},
   "outputs": [],
   "source": [
    "# Create the final train and test basetables\n",
    "train = pd.concat([X_train, Y_train], axis=1)\n",
    "test = pd.concat([X_test, Y_test], axis=1)"
   ]
  },
  {
   "cell_type": "code",
   "execution_count": 26,
   "metadata": {},
   "outputs": [
    {
     "name": "stdout",
     "output_type": "stream",
     "text": [
      "0.27\n",
      "0.27\n"
     ]
    }
   ],
   "source": [
    "# Check whether train and test have same percentage Churns (to be sure of balance)\n",
    "print(round(sum(train[\"Churn_flag\"])/len(train), 2))\n",
    "print(round(sum(test[\"Churn_flag\"])/len(test), 2))"
   ]
  },
  {
   "cell_type": "code",
   "execution_count": 27,
   "metadata": {},
   "outputs": [],
   "source": [
    "from sklearn import linear_model\n",
    "from sklearn.metrics import roc_auc_score\n",
    "def auc_train_test(X, Y, train, test):\n",
    "    X_train = train[X]\n",
    "    X_test = test[X]\n",
    "    Y_train = train[Y]\n",
    "    Y_test = test[Y]\n",
    "    logreg = linear_model.LogisticRegression()\n",
    "    \n",
    "    # Fit the model on train data\n",
    "    logreg.fit(X_train, Y_train)\n",
    "    \n",
    "    # Calculate the predictions both on train and test data\n",
    "    predictions_train = logreg.predict_proba(X_train)[:,1]\n",
    "    predictions_test = logreg.predict_proba(X_test)[:,1]\n",
    "    \n",
    "    # Calculate the AUC both on train and test data\n",
    "    auc_train = roc_auc_score(Y_train, predictions_train)\n",
    "    auc_test = roc_auc_score(Y_test,predictions_test)\n",
    "    return(auc_train, auc_test)"
   ]
  },
  {
   "cell_type": "code",
   "execution_count": 28,
   "metadata": {},
   "outputs": [
    {
     "name": "stdout",
     "output_type": "stream",
     "text": [
      "0.82\n",
      "0.84\n"
     ]
    }
   ],
   "source": [
    "# Apply the auc_train_test function\n",
    "auc_train, auc_test = auc_train_test([\"tenure\" , \"fiber_flag\", \"Contract_Month\"], [\"Churn_flag\"], train, test)\n",
    "print(round(auc_train,2))\n",
    "print(round(auc_test,2))"
   ]
  },
  {
   "cell_type": "code",
   "execution_count": 29,
   "metadata": {},
   "outputs": [],
   "source": [
    "# Variable order resulting from the forward stepwise variable selection procedure\n",
    "variables = ['tenure', 'fiber_flag', 'Contract_Month', 'InternetService_No', 'Electronic check', 'OnlineSecurity_flag', 'PaperlessBilling_flag', 'StreamingMovies_flag', 'TechSupport_flag', 'Contract_Two', 'TotalCharges', 'PhoneService_flag', 'MultipleLines_flag', 'OnlineBackup_flag', 'StreamingTV_flag', 'SeniorCitizen_flag', 'Credit card (automatic)', 'Mailed check', 'Male_flag', 'Dependents_flag', 'Contract_One', 'Partner_flag', 'DeviceProtection_flag', 'DSL_flag', 'Bank transfer (automatic)', 'MonthlyCharges']\n",
    "\n",
    "# Keep track of train and test AUC values\n",
    "auc_values_train = []\n",
    "auc_values_test = []"
   ]
  },
  {
   "cell_type": "code",
   "execution_count": 30,
   "metadata": {},
   "outputs": [],
   "source": [
    "# Add variables one by one\n",
    "variables_evaluate = []\n",
    "\n",
    "# Iterate over the variables in variables\n",
    "for v in variables:\n",
    "  \n",
    "    # Add the variable\n",
    "    variables_evaluate.append(v)\n",
    "    \n",
    "    # Calculate the train and test AUC of this set of variables\n",
    "    auc_train, auc_test = auc_train_test(variables_evaluate, [\"Churn_flag\"], train,test)\n",
    "    \n",
    "    # Append the values to the lists\n",
    "    auc_values_train.append(auc_train)\n",
    "    auc_values_test.append(auc_test)"
   ]
  },
  {
   "cell_type": "code",
   "execution_count": 31,
   "metadata": {},
   "outputs": [
    {
     "data": {
      "image/png": "[encoded data removed]",
      "text/plain": [
       "<Figure size 1440x720 with 1 Axes>"
      ]
     },
     "metadata": {},
     "output_type": "display_data"
    }
   ],
   "source": [
    "# Make plot of the AUC values\n",
    "import matplotlib.pyplot as plt\n",
    "import numpy as np\n",
    "\n",
    "plt.figure(figsize=(20,10))\n",
    "\n",
    "x = np.array(range(0,len(auc_values_train)))\n",
    "y_train = np.array(auc_values_train)\n",
    "y_test = np.array(auc_values_test)\n",
    "plt.xticks(x, variables, rotation = 45)\n",
    "plt.plot(x,y_train)\n",
    "plt.plot(x,y_test)\n",
    "plt.ylim((0.7, 0.875))\n",
    "plt.legend(['Churn train', 'Churn test'], loc=0)\n",
    "plt.show()"
   ]
  },
  {
   "cell_type": "markdown",
   "metadata": {},
   "source": [
    "<h3><left><font color=grey><span style='background :yellow'>Step 5: Prediction</span></font></left></h3>"
   ]
  },
  {
   "cell_type": "code",
   "execution_count": 32,
   "metadata": {},
   "outputs": [],
   "source": [
    "# What to put in the model?\n",
    "X = basetable[['tenure', 'fiber_flag', 'Contract_Month']]\n",
    "y = basetable.Churn_flag\n",
    "\n",
    "X_train, X_test, y_train, y_test = train_test_split(X, y, test_size=0.20, stratify = y, random_state=101)"
   ]
  },
  {
   "cell_type": "code",
   "execution_count": 33,
   "metadata": {},
   "outputs": [],
   "source": [
    "from sklearn.linear_model import LogisticRegression\n",
    "log_mod = LogisticRegression()"
   ]
  },
  {
   "cell_type": "code",
   "execution_count": 34,
   "metadata": {},
   "outputs": [
    {
     "data": {
      "text/plain": [
       "LogisticRegression()"
      ]
     },
     "execution_count": 34,
     "metadata": {},
     "output_type": "execute_result"
    }
   ],
   "source": [
    "log_mod.fit(X_train, y_train)"
   ]
  },
  {
   "cell_type": "code",
   "execution_count": 35,
   "metadata": {},
   "outputs": [],
   "source": [
    "# Making prediction. We use the test set to make predictions. This shows how our model works with the new data\n",
    "\n",
    "predictions = log_mod.predict(X_test)\n",
    "probas = log_mod.predict_proba(X_test)"
   ]
  },
  {
   "cell_type": "code",
   "execution_count": 36,
   "metadata": {},
   "outputs": [
    {
     "data": {
      "image/png": "[encoded data removed]",
      "text/plain": [
       "<Figure size 360x360 with 1 Axes>"
      ]
     },
     "metadata": {},
     "output_type": "display_data"
    }
   ],
   "source": [
    "plt.hist(predictions.T[1]);"
   ]
  },
  {
   "cell_type": "code",
   "execution_count": 37,
   "metadata": {},
   "outputs": [
    {
     "data": {
      "image/png": "[encoded data removed]",
      "text/plain": [
       "<Figure size 360x360 with 1 Axes>"
      ]
     },
     "metadata": {},
     "output_type": "display_data"
    }
   ],
   "source": [
    "plt.hist(probas.T[1]);"
   ]
  },
  {
   "cell_type": "code",
   "execution_count": 38,
   "metadata": {},
   "outputs": [
    {
     "name": "stdout",
     "output_type": "stream",
     "text": [
      "0.9845079581506994\n",
      "0.015492041849300593\n"
     ]
    }
   ],
   "source": [
    "print(probas.max())\n",
    "print(probas.min())"
   ]
  },
  {
   "cell_type": "code",
   "execution_count": 39,
   "metadata": {},
   "outputs": [
    {
     "data": {
      "text/plain": [
       "fiber_flag        1.621285\n",
       "Contract_Month    1.184887\n",
       "tenure           -0.032044\n",
       "dtype: float64"
      ]
     },
     "execution_count": 39,
     "metadata": {},
     "output_type": "execute_result"
    }
   ],
   "source": [
    "# To get the weights of all the variables (coefficients)\n",
    "weights = pd.Series(log_mod.coef_[0],\n",
    " index=X.columns.values)\n",
    "weights.sort_values(ascending = False)"
   ]
  },
  {
   "cell_type": "markdown",
   "metadata": {},
   "source": [
    "<h3><left><font color=grey><span style='background :yellow'>Step 6: Model Evaluation</span></font></left></h3>\n",
    "\n",
    "How we do evaluate if our model is accurate? We use we what is called classification metrics:\n",
    "- Confusion Matrix\n",
    "- Accuracy score\n",
    "- Precision score\n",
    "- Recall score\n",
    "- ROC curve\n",
    "- Precision/Recall curve "
   ]
  },
  {
   "cell_type": "code",
   "execution_count": 40,
   "metadata": {},
   "outputs": [
    {
     "data": {
      "text/plain": [
       "<sklearn.metrics._plot.confusion_matrix.ConfusionMatrixDisplay at 0x1ca80105970>"
      ]
     },
     "execution_count": 40,
     "metadata": {},
     "output_type": "execute_result"
    },
    {
     "data": {
      "image/png": "[encoded data removed]",
      "text/plain": [
       "<Figure size 360x360 with 2 Axes>"
      ]
     },
     "metadata": {},
     "output_type": "display_data"
    }
   ],
   "source": [
    "from sklearn.metrics import confusion_matrix\n",
    "conf_matrix = confusion_matrix(y_test, predictions)\n",
    "\n",
    "from sklearn.metrics import plot_confusion_matrix\n",
    "plot_confusion_matrix(log_mod, X_test, y_test)"
   ]
  },
  {
   "cell_type": "code",
   "execution_count": 41,
   "metadata": {
    "scrolled": true
   },
   "outputs": [
    {
     "name": "stdout",
     "output_type": "stream",
     "text": [
      "Accuracy is: 75.87%\n",
      "Sensitivity (Recall) is: 44.12%\n",
      "Specificity is: 87.34%\n",
      "Precision is: 55.74%\n"
     ]
    }
   ],
   "source": [
    "TN = conf_matrix[0,0] #this is how the matrix shaped\n",
    "TP = conf_matrix[1,1]\n",
    "FN = conf_matrix[1,0]\n",
    "FP = conf_matrix[0,1]\n",
    "\n",
    "#Accuracy: proportion of correct predictions (best is 1)\n",
    "#accuracy = (TN + TP) / (TN + FN + FP + TP)\n",
    "\n",
    "accuracy = (TN + TP) / (TN + TP + FN + FP)\n",
    "print(\"Accuracy is: \" +\"{:.2%}\".format(accuracy))\n",
    "\n",
    "#Sensitivity: proportion of true positives (recall)\n",
    "#Sensitivity = TP / (FN + TP)\n",
    "\n",
    "sensitivity = TP / (FN + TP)\n",
    "print(\"Sensitivity (Recall) is: \" +\"{:.2%}\".format(sensitivity))\n",
    "\n",
    "#Specificity: proportion of true negatives\n",
    "#specificity = TN / (TN + FP)\n",
    "\n",
    "specificity = TN / (TN + FP)\n",
    "print(\"Specificity is: \" +\"{:.2%}\".format(specificity))\n",
    "\n",
    "# Precision: proportion of true positives out of all positives (best is 1)\n",
    "precision = TP / (TP+FP)\n",
    "print(\"Precision is: \" +\"{:.2%}\".format(precision))"
   ]
  },
  {
   "cell_type": "markdown",
   "metadata": {},
   "source": [
    "The score show us that in 76% of the cases our model predicted the right outcome for our binary classification problem. That’s considered quite good for a first run, especially when we look which impact each variable has and if that makes sense."
   ]
  },
  {
   "cell_type": "markdown",
   "metadata": {},
   "source": [
    "**ROC Curve**"
   ]
  },
  {
   "cell_type": "code",
   "execution_count": 42,
   "metadata": {},
   "outputs": [
    {
     "data": {
      "image/png": "[encoded data removed]",
      "text/plain": [
       "<Figure size 360x360 with 1 Axes>"
      ]
     },
     "metadata": {},
     "output_type": "display_data"
    }
   ],
   "source": [
    "from sklearn.metrics import plot_precision_recall_curve, plot_roc_curve\n",
    "plot_roc_curve(log_mod, X_test, y_test);"
   ]
  },
  {
   "cell_type": "markdown",
   "metadata": {},
   "source": [
    "**Precision/Recall Curve**"
   ]
  },
  {
   "cell_type": "code",
   "execution_count": 43,
   "metadata": {},
   "outputs": [
    {
     "data": {
      "image/png": "[encoded data removed]",
      "text/plain": [
       "<Figure size 360x360 with 1 Axes>"
      ]
     },
     "metadata": {},
     "output_type": "display_data"
    }
   ],
   "source": [
    "plot_precision_recall_curve(log_mod, X_test, y_test);"
   ]
  },
  {
   "cell_type": "markdown",
   "metadata": {},
   "source": [
    "# Conclusion for Model\n",
    "\n",
    "We have obtained a maximum accuracy of 76% to determine whether a person churns or not. \n",
    "- The recall score is bad as this shows the total of true positives captured. \n",
    "- While having monthly contract and fiber internet have positive effect on Churn, tenure has negative effect "
   ]
  },
  {
   "cell_type": "markdown",
   "metadata": {},
   "source": [
    "<h3><left><font color=grey><span style='background :yellow'>Step 7: Prediction of retention length </span></font></left></h3>"
   ]
  },
  {
   "cell_type": "markdown",
   "metadata": {},
   "source": [
    "**I: Define a dataset where all customers churned**"
   ]
  },
  {
   "cell_type": "code",
   "execution_count": 135,
   "metadata": {},
   "outputs": [],
   "source": [
    "churned = basetable[basetable[\"Churn_flag\"] == 1]\n",
    "churned.drop(['Churn_flag', 'tenure_bin'], axis=1, inplace=True)"
   ]
  },
  {
   "cell_type": "markdown",
   "metadata": {},
   "source": [
    "**II: Define explanatory variables and responding variable for multiple regression**"
   ]
  },
  {
   "cell_type": "code",
   "execution_count": 142,
   "metadata": {},
   "outputs": [],
   "source": [
    "from statsmodels.formula.api import ols\n",
    "\n",
    "x_var = ['fiber_flag', 'Contract_Month', 'InternetService_No', 'Electronic check',\\\n",
    "         'OnlineSecurity_flag', 'PaperlessBilling_flag', 'StreamingMovies_flag', 'TechSupport_flag',\\\n",
    "         'Contract_Two', 'TotalCharges', 'PhoneService_flag', 'MultipleLines_flag', 'OnlineBackup_flag',\\\n",
    "         'StreamingTV_flag', 'SeniorCitizen_flag', 'Credit card (automatic)', 'Mailed check', 'Male_flag',\\\n",
    "         'Dependents_flag', 'Contract_One', 'Partner_flag', 'DeviceProtection_flag', 'DSL_flag',\\\n",
    "         'Bank transfer (automatic)', 'MonthlyCharges']\n",
    "\n",
    "X = churned[x_var]\n",
    "Y = churned[\"tenure\"]"
   ]
  },
  {
   "cell_type": "code",
   "execution_count": 143,
   "metadata": {},
   "outputs": [],
   "source": [
    "from sklearn.model_selection import train_test_split\n",
    "\n",
    "X_train, X_test, Y_train, Y_test = train_test_split(X,Y,test_size = 0.2, random_state=0)"
   ]
  },
  {
   "cell_type": "code",
   "execution_count": 144,
   "metadata": {},
   "outputs": [
    {
     "data": {
      "text/plain": [
       "LinearRegression()"
      ]
     },
     "execution_count": 144,
     "metadata": {},
     "output_type": "execute_result"
    }
   ],
   "source": [
    "from sklearn.linear_model import LinearRegression\n",
    "\n",
    "lr = LinearRegression()\n",
    "lr.fit(X_train, Y_train)"
   ]
  },
  {
   "cell_type": "code",
   "execution_count": 145,
   "metadata": {},
   "outputs": [
    {
     "name": "stdout",
     "output_type": "stream",
     "text": [
      "                        Names  Coefficients  Standard Errors  t values  \\\n",
      "0                    Constant       23.7788     2.832657e+07     0.000   \n",
      "1                  fiber_flag        9.5370     2.042991e+07     0.000   \n",
      "2              Contract_Month       -2.2698     7.360436e+07    -0.000   \n",
      "3          InternetService_No      -10.1956     2.042991e+07    -0.000   \n",
      "4            Electronic check       -0.0103     3.637878e+07    -0.000   \n",
      "5         OnlineSecurity_flag        2.2015     2.349000e+00     0.937   \n",
      "6       PaperlessBilling_flag        0.2543     9.570000e-01     0.266   \n",
      "7        StreamingMovies_flag        3.5455     4.214000e+00     0.841   \n",
      "8            TechSupport_flag        0.9504     2.422000e+00     0.392   \n",
      "9                Contract_Two        2.4956     7.360436e+07     0.000   \n",
      "10               TotalCharges        0.0103     0.000000e+00    28.694   \n",
      "11          PhoneService_flag        5.0878     8.498000e+00     0.599   \n",
      "12         MultipleLines_flag        2.2240     2.339000e+00     0.951   \n",
      "13          OnlineBackup_flag        2.3774     2.304000e+00     1.032   \n",
      "14           StreamingTV_flag        3.6265     4.254000e+00     0.852   \n",
      "15         SeniorCitizen_flag        0.6803     9.670000e-01     0.703   \n",
      "16    Credit card (automatic)        1.1282     3.637878e+07     0.000   \n",
      "17               Mailed check       -1.6691     3.637878e+07    -0.000   \n",
      "18                  Male_flag       -0.0721     8.150000e-01    -0.088   \n",
      "19            Dependents_flag        0.7524     1.206000e+00     0.624   \n",
      "20               Contract_One       -0.2259     7.360436e+07    -0.000   \n",
      "21               Partner_flag        1.0952     9.830000e-01     1.114   \n",
      "22      DeviceProtection_flag        1.6606     2.271000e+00     0.731   \n",
      "23                   DSL_flag        0.6585     2.042991e+07     0.000   \n",
      "24  Bank transfer (automatic)        0.5512     3.637878e+07     0.000   \n",
      "25             MonthlyCharges       -0.4959     4.170000e-01    -1.190   \n",
      "\n",
      "    Probabilities  \n",
      "0           1.000  \n",
      "1           1.000  \n",
      "2           1.000  \n",
      "3           1.000  \n",
      "4           1.000  \n",
      "5           0.349  \n",
      "6           0.791  \n",
      "7           0.401  \n",
      "8           0.695  \n",
      "9           1.000  \n",
      "10          0.000  \n",
      "11          0.550  \n",
      "12          0.342  \n",
      "13          0.303  \n",
      "14          0.394  \n",
      "15          0.482  \n",
      "16          1.000  \n",
      "17          1.000  \n",
      "18          0.930  \n",
      "19          0.533  \n",
      "20          1.000  \n",
      "21          0.266  \n",
      "22          0.465  \n",
      "23          1.000  \n",
      "24          1.000  \n",
      "25          0.235  \n"
     ]
    }
   ],
   "source": [
    "import scipy\n",
    "\n",
    "#lets first collect the coeffienct and intercept\n",
    "params = np.append(lr.intercept_,lr.coef_)\n",
    "\n",
    "#Lets predict the train data with the calculated parameters\n",
    "predictions = lr.predict(X_train)\n",
    "\n",
    "#\n",
    "\n",
    "newX = pd.DataFrame({\"Constant\":np.ones(len(X))}).join(pd.DataFrame(X)).dropna()\n",
    "MSE = (sum((Y_train-predictions)**2))/(len(newX)-len(newX.columns))\n",
    "\n",
    "var_b = MSE*(abs(np.linalg.inv(np.dot(newX.T,newX)).diagonal())) # abs for avoiding negative values in array (problem for sqrt)\n",
    "sd_b = np.sqrt(var_b)\n",
    "ts_b = params/ sd_b\n",
    "\n",
    "\n",
    "p_values =[2*(1-scipy.stats.t.cdf(np.abs(i),(len(newX)-len(newX.columns)))) for i in ts_b]\n",
    "\n",
    "sd_b = np.round(sd_b,3)\n",
    "ts_b = np.round(ts_b,3)\n",
    "p_values = np.round(p_values,3)\n",
    "params = np.round(params,4)\n",
    "\n",
    "myDF3 = pd.DataFrame()\n",
    "myDF3['Names'],myDF3[\"Coefficients\"],myDF3[\"Standard Errors\"],myDF3[\"t values\"],myDF3[\"Probabilities\"] = [newX.columns,params,sd_b,ts_b,p_values]\n",
    "print(myDF3)"
   ]
  },
  {
   "cell_type": "markdown",
   "metadata": {},
   "source": [
    "**III: Total Charges averages by tenures**"
   ]
  },
  {
   "cell_type": "code",
   "execution_count": 160,
   "metadata": {},
   "outputs": [
    {
     "data": {
      "text/html": [
       "<div>\n",
       "<style scoped>\n",
       "    .dataframe tbody tr th:only-of-type {\n",
       "        vertical-align: middle;\n",
       "    }\n",
       "\n",
       "    .dataframe tbody tr th {\n",
       "        vertical-align: top;\n",
       "    }\n",
       "\n",
       "    .dataframe thead th {\n",
       "        text-align: right;\n",
       "    }\n",
       "</style>\n",
       "<table border=\"1\" class=\"dataframe\">\n",
       "  <thead>\n",
       "    <tr style=\"text-align: right;\">\n",
       "      <th></th>\n",
       "      <th>Tenure</th>\n",
       "      <th>Average_total_charge</th>\n",
       "    </tr>\n",
       "  </thead>\n",
       "  <tbody>\n",
       "    <tr>\n",
       "      <th>0</th>\n",
       "      <td>1</td>\n",
       "      <td>58.197368</td>\n",
       "    </tr>\n",
       "    <tr>\n",
       "      <th>1</th>\n",
       "      <td>2</td>\n",
       "      <td>131.474797</td>\n",
       "    </tr>\n",
       "    <tr>\n",
       "      <th>2</th>\n",
       "      <td>3</td>\n",
       "      <td>200.123404</td>\n",
       "    </tr>\n",
       "    <tr>\n",
       "      <th>3</th>\n",
       "      <td>4</td>\n",
       "      <td>284.319277</td>\n",
       "    </tr>\n",
       "    <tr>\n",
       "      <th>4</th>\n",
       "      <td>5</td>\n",
       "      <td>356.769531</td>\n",
       "    </tr>\n",
       "  </tbody>\n",
       "</table>\n",
       "</div>"
      ],
      "text/plain": [
       "   Tenure  Average_total_charge\n",
       "0       1             58.197368\n",
       "1       2            131.474797\n",
       "2       3            200.123404\n",
       "3       4            284.319277\n",
       "4       5            356.769531"
      ]
     },
     "execution_count": 160,
     "metadata": {},
     "output_type": "execute_result"
    }
   ],
   "source": [
    "total_vs_tenure = churned.groupby(\"tenure\").TotalCharges.mean().reset_index()\n",
    "total_vs_tenure.rename(columns={'tenure': 'Tenure', 'TotalCharges': 'Average_total_charge'}, inplace=True)\n",
    "total_vs_tenure.head()"
   ]
  },
  {
   "cell_type": "markdown",
   "metadata": {},
   "source": [
    "**IV: Eliminating insignificant variables and creatin a model**"
   ]
  },
  {
   "cell_type": "code",
   "execution_count": 161,
   "metadata": {},
   "outputs": [
    {
     "data": {
      "image/png": "[encoded data removed]",
      "text/plain": [
       "<Figure size 360x360 with 1 Axes>"
      ]
     },
     "metadata": {},
     "output_type": "display_data"
    }
   ],
   "source": [
    "#Now I eliminate all insignificant variables, and only TotalCharges left (where p>0.05)\n",
    "\n",
    "mdl_total_vs_tenure = ols(\"Tenure ~ Average_total_charge\", data=total_vs_tenure).fit()\n",
    "\n",
    "#Making predictions inside a dataframe\n",
    "    # First, I need to define min and max values of TotalCharges as integers\n",
    "\n",
    "min_total = int(total_vs_tenure[\"Average_total_charge\"].min())\n",
    "max_total = int(total_vs_tenure[\"Average_total_charge\"].max())\n",
    "\n",
    "explanatory_data = pd.DataFrame({\"Average_total_charge\": np.arange(min_total, max_total+1)})\n",
    "\n",
    "prediction_data = explanatory_data.assign(Tenure = mdl_total_vs_tenure.predict(explanatory_data))\n",
    "\n",
    "#Showing predictions\n",
    "\n",
    "import matplotlib.pyplot as plt\n",
    "import seaborn as sns\n",
    "fig = plt.figure()\n",
    "\n",
    "sns.regplot(x=\"Average_total_charge\",\n",
    "            y=\"Tenure\",\n",
    "            ci=None,\n",
    "            data=total_vs_tenure)\n",
    "sns.scatterplot(x=\"Average_total_charge\", #adding a layer to your plot containing prediction_data \n",
    "                y=\"Tenure\",\n",
    "                data=prediction_data,\n",
    "                color=\"red\",\n",
    "                marker=\"s\")\n",
    "plt.show()"
   ]
  },
  {
   "cell_type": "markdown",
   "metadata": {},
   "source": [
    "We can say as much as a customer's total charge is higher, tenure lenght increases"
   ]
  },
  {
   "cell_type": "code",
   "execution_count": 162,
   "metadata": {},
   "outputs": [
    {
     "data": {
      "text/html": [
       "<table class=\"simpletable\">\n",
       "<caption>OLS Regression Results</caption>\n",
       "<tr>\n",
       "  <th>Dep. Variable:</th>         <td>Tenure</td>      <th>  R-squared:         </th> <td>   0.977</td>\n",
       "</tr>\n",
       "<tr>\n",
       "  <th>Model:</th>                   <td>OLS</td>       <th>  Adj. R-squared:    </th> <td>   0.976</td>\n",
       "</tr>\n",
       "<tr>\n",
       "  <th>Method:</th>             <td>Least Squares</td>  <th>  F-statistic:       </th> <td>   2936.</td>\n",
       "</tr>\n",
       "<tr>\n",
       "  <th>Date:</th>             <td>Mon, 08 Feb 2021</td> <th>  Prob (F-statistic):</th> <td>6.78e-59</td>\n",
       "</tr>\n",
       "<tr>\n",
       "  <th>Time:</th>                 <td>13:09:22</td>     <th>  Log-Likelihood:    </th> <td> -185.26</td>\n",
       "</tr>\n",
       "<tr>\n",
       "  <th>No. Observations:</th>      <td>    72</td>      <th>  AIC:               </th> <td>   374.5</td>\n",
       "</tr>\n",
       "<tr>\n",
       "  <th>Df Residuals:</th>          <td>    70</td>      <th>  BIC:               </th> <td>   379.1</td>\n",
       "</tr>\n",
       "<tr>\n",
       "  <th>Df Model:</th>              <td>     1</td>      <th>                     </th>     <td> </td>   \n",
       "</tr>\n",
       "<tr>\n",
       "  <th>Covariance Type:</th>      <td>nonrobust</td>    <th>                     </th>     <td> </td>   \n",
       "</tr>\n",
       "</table>\n",
       "<table class=\"simpletable\">\n",
       "<tr>\n",
       "            <td></td>              <th>coef</th>     <th>std err</th>      <th>t</th>      <th>P>|t|</th>  <th>[0.025</th>    <th>0.975]</th>  \n",
       "</tr>\n",
       "<tr>\n",
       "  <th>Intercept</th>            <td>    4.0298</td> <td>    0.709</td> <td>    5.683</td> <td> 0.000</td> <td>    2.616</td> <td>    5.444</td>\n",
       "</tr>\n",
       "<tr>\n",
       "  <th>Average_total_charge</th> <td>    0.0101</td> <td>    0.000</td> <td>   54.186</td> <td> 0.000</td> <td>    0.010</td> <td>    0.010</td>\n",
       "</tr>\n",
       "</table>\n",
       "<table class=\"simpletable\">\n",
       "<tr>\n",
       "  <th>Omnibus:</th>       <td> 6.498</td> <th>  Durbin-Watson:     </th> <td>   1.375</td>\n",
       "</tr>\n",
       "<tr>\n",
       "  <th>Prob(Omnibus):</th> <td> 0.039</td> <th>  Jarque-Bera (JB):  </th> <td>   5.845</td>\n",
       "</tr>\n",
       "<tr>\n",
       "  <th>Skew:</th>          <td> 0.675</td> <th>  Prob(JB):          </th> <td>  0.0538</td>\n",
       "</tr>\n",
       "<tr>\n",
       "  <th>Kurtosis:</th>      <td> 3.357</td> <th>  Cond. No.          </th> <td>7.14e+03</td>\n",
       "</tr>\n",
       "</table><br/><br/>Warnings:<br/>[1] Standard Errors assume that the covariance matrix of the errors is correctly specified.<br/>[2] The condition number is large, 7.14e+03. This might indicate that there are<br/>strong multicollinearity or other numerical problems."
      ],
      "text/plain": [
       "<class 'statsmodels.iolib.summary.Summary'>\n",
       "\"\"\"\n",
       "                            OLS Regression Results                            \n",
       "==============================================================================\n",
       "Dep. Variable:                 Tenure   R-squared:                       0.977\n",
       "Model:                            OLS   Adj. R-squared:                  0.976\n",
       "Method:                 Least Squares   F-statistic:                     2936.\n",
       "Date:                Mon, 08 Feb 2021   Prob (F-statistic):           6.78e-59\n",
       "Time:                        13:09:22   Log-Likelihood:                -185.26\n",
       "No. Observations:                  72   AIC:                             374.5\n",
       "Df Residuals:                      70   BIC:                             379.1\n",
       "Df Model:                           1                                         \n",
       "Covariance Type:            nonrobust                                         \n",
       "========================================================================================\n",
       "                           coef    std err          t      P>|t|      [0.025      0.975]\n",
       "----------------------------------------------------------------------------------------\n",
       "Intercept                4.0298      0.709      5.683      0.000       2.616       5.444\n",
       "Average_total_charge     0.0101      0.000     54.186      0.000       0.010       0.010\n",
       "==============================================================================\n",
       "Omnibus:                        6.498   Durbin-Watson:                   1.375\n",
       "Prob(Omnibus):                  0.039   Jarque-Bera (JB):                5.845\n",
       "Skew:                           0.675   Prob(JB):                       0.0538\n",
       "Kurtosis:                       3.357   Cond. No.                     7.14e+03\n",
       "==============================================================================\n",
       "\n",
       "Warnings:\n",
       "[1] Standard Errors assume that the covariance matrix of the errors is correctly specified.\n",
       "[2] The condition number is large, 7.14e+03. This might indicate that there are\n",
       "strong multicollinearity or other numerical problems.\n",
       "\"\"\""
      ]
     },
     "execution_count": 162,
     "metadata": {},
     "output_type": "execute_result"
    }
   ],
   "source": [
    "mdl_total_vs_tenure.summary()"
   ]
  },
  {
   "cell_type": "markdown",
   "metadata": {},
   "source": [
    "**V: Dividing the model into 2 from a breaking point**"
   ]
  },
  {
   "cell_type": "code",
   "execution_count": 190,
   "metadata": {},
   "outputs": [
    {
     "data": {
      "image/png": "[encoded data removed]",
      "text/plain": [
       "<Figure size 1080x360 with 1 Axes>"
      ]
     },
     "metadata": {},
     "output_type": "display_data"
    }
   ],
   "source": [
    "totten1 = total_vs_tenure.loc[:23,:]\n",
    "totten2 = total_vs_tenure.loc[24:,:]\n",
    "\n",
    "mdl1 = ols(\"Tenure ~ Average_total_charge\", data=totten1).fit()\n",
    "mdl2 = ols(\"Tenure ~ Average_total_charge\", data=totten2).fit()\n",
    "\n",
    "#Making predictions inside a dataframe\n",
    "    # First, I need to define min and max values of TotalCharges as integers\n",
    "\n",
    "min_totten1 = int(totten1[\"Average_total_charge\"].min())\n",
    "max_totten1 = int(totten1[\"Average_total_charge\"].max())\n",
    "min_totten2 = int(totten2[\"Average_total_charge\"].min())\n",
    "max_totten2 = int(totten2[\"Average_total_charge\"].max())\n",
    "\n",
    "explanatory_data1 = pd.DataFrame({\"Average_total_charge\": np.arange(min_totten1, max_totten2+1)})\n",
    "                        #I use max_totten2 to see what would happen if I continued with same model\n",
    "explanatory_data2 = pd.DataFrame({\"Average_total_charge\": np.arange(min_totten2, max_totten2+1)})\n",
    "\n",
    "prediction_data1 = explanatory_data1.assign(Tenure = mdl1.predict(explanatory_data1))\n",
    "prediction_data2 = explanatory_data2.assign(Tenure = mdl2.predict(explanatory_data2))\n",
    "\n",
    "#Showing predictions\n",
    "\n",
    "import matplotlib.pyplot as plt\n",
    "import seaborn as sns\n",
    "\n",
    "fig = plt.figure(figsize=(15,5))\n",
    "sns.regplot(x=\"Average_total_charge\",\n",
    "            y=\"Tenure\",\n",
    "            ci=None,\n",
    "            data=totten1)\n",
    "\n",
    "sns.regplot(x=\"Average_total_charge\",\n",
    "            y=\"Tenure\",\n",
    "            ci=None,\n",
    "            data=totten2)\n",
    "\n",
    "sns.scatterplot(x=\"Average_total_charge\", #adding a layer to your plot containing prediction_data \n",
    "                y=\"Tenure\",\n",
    "                data=prediction_data1,\n",
    "                color=\"red\",\n",
    "                marker=\"s\")\n",
    "\n",
    "sns.scatterplot(x=\"Average_total_charge\", #adding a layer to your plot containing prediction_data \n",
    "                y=\"Tenure\",\n",
    "                data=prediction_data2,\n",
    "                color=\"green\",\n",
    "                marker=\"s\")\n",
    "\n",
    "plt.xlim(0,8000)\n",
    "plt.ylim(0,80)\n",
    "\n",
    "plt.xlabel(\"Average Total Charges\")\n",
    "plt.ylabel(\"Tenure\")\n",
    "plt.title(\"Comparison of first 2 years and after: Average total charge vs Tenure\")\n",
    "plt.legend(['Model 1', 'Model 2'], loc=0)\n",
    "plt.savefig('Model_1_Model_2.png')\n",
    "\n",
    "plt.show()"
   ]
  },
  {
   "cell_type": "code",
   "execution_count": 192,
   "metadata": {},
   "outputs": [
    {
     "data": {
      "text/html": [
       "<table class=\"simpletable\">\n",
       "<caption>OLS Regression Results</caption>\n",
       "<tr>\n",
       "  <th>Dep. Variable:</th>         <td>Tenure</td>      <th>  R-squared:         </th> <td>   0.987</td>\n",
       "</tr>\n",
       "<tr>\n",
       "  <th>Model:</th>                   <td>OLS</td>       <th>  Adj. R-squared:    </th> <td>   0.987</td>\n",
       "</tr>\n",
       "<tr>\n",
       "  <th>Method:</th>             <td>Least Squares</td>  <th>  F-statistic:       </th> <td>   1686.</td>\n",
       "</tr>\n",
       "<tr>\n",
       "  <th>Date:</th>             <td>Mon, 08 Feb 2021</td> <th>  Prob (F-statistic):</th> <td>2.75e-22</td>\n",
       "</tr>\n",
       "<tr>\n",
       "  <th>Time:</th>                 <td>14:22:27</td>     <th>  Log-Likelihood:    </th> <td> -28.266</td>\n",
       "</tr>\n",
       "<tr>\n",
       "  <th>No. Observations:</th>      <td>    24</td>      <th>  AIC:               </th> <td>   60.53</td>\n",
       "</tr>\n",
       "<tr>\n",
       "  <th>Df Residuals:</th>          <td>    22</td>      <th>  BIC:               </th> <td>   62.89</td>\n",
       "</tr>\n",
       "<tr>\n",
       "  <th>Df Model:</th>              <td>     1</td>      <th>                     </th>     <td> </td>   \n",
       "</tr>\n",
       "<tr>\n",
       "  <th>Covariance Type:</th>      <td>nonrobust</td>    <th>                     </th>     <td> </td>   \n",
       "</tr>\n",
       "</table>\n",
       "<table class=\"simpletable\">\n",
       "<tr>\n",
       "            <td></td>              <th>coef</th>     <th>std err</th>      <th>t</th>      <th>P>|t|</th>  <th>[0.025</th>    <th>0.975]</th>  \n",
       "</tr>\n",
       "<tr>\n",
       "  <th>Intercept</th>            <td>    0.8453</td> <td>    0.330</td> <td>    2.564</td> <td> 0.018</td> <td>    0.162</td> <td>    1.529</td>\n",
       "</tr>\n",
       "<tr>\n",
       "  <th>Average_total_charge</th> <td>    0.0119</td> <td>    0.000</td> <td>   41.057</td> <td> 0.000</td> <td>    0.011</td> <td>    0.013</td>\n",
       "</tr>\n",
       "</table>\n",
       "<table class=\"simpletable\">\n",
       "<tr>\n",
       "  <th>Omnibus:</th>       <td> 0.989</td> <th>  Durbin-Watson:     </th> <td>   2.935</td>\n",
       "</tr>\n",
       "<tr>\n",
       "  <th>Prob(Omnibus):</th> <td> 0.610</td> <th>  Jarque-Bera (JB):  </th> <td>   0.163</td>\n",
       "</tr>\n",
       "<tr>\n",
       "  <th>Skew:</th>          <td> 0.099</td> <th>  Prob(JB):          </th> <td>   0.922</td>\n",
       "</tr>\n",
       "<tr>\n",
       "  <th>Kurtosis:</th>      <td> 3.352</td> <th>  Cond. No.          </th> <td>2.23e+03</td>\n",
       "</tr>\n",
       "</table><br/><br/>Warnings:<br/>[1] Standard Errors assume that the covariance matrix of the errors is correctly specified.<br/>[2] The condition number is large, 2.23e+03. This might indicate that there are<br/>strong multicollinearity or other numerical problems."
      ],
      "text/plain": [
       "<class 'statsmodels.iolib.summary.Summary'>\n",
       "\"\"\"\n",
       "                            OLS Regression Results                            \n",
       "==============================================================================\n",
       "Dep. Variable:                 Tenure   R-squared:                       0.987\n",
       "Model:                            OLS   Adj. R-squared:                  0.987\n",
       "Method:                 Least Squares   F-statistic:                     1686.\n",
       "Date:                Mon, 08 Feb 2021   Prob (F-statistic):           2.75e-22\n",
       "Time:                        14:22:27   Log-Likelihood:                -28.266\n",
       "No. Observations:                  24   AIC:                             60.53\n",
       "Df Residuals:                      22   BIC:                             62.89\n",
       "Df Model:                           1                                         \n",
       "Covariance Type:            nonrobust                                         \n",
       "========================================================================================\n",
       "                           coef    std err          t      P>|t|      [0.025      0.975]\n",
       "----------------------------------------------------------------------------------------\n",
       "Intercept                0.8453      0.330      2.564      0.018       0.162       1.529\n",
       "Average_total_charge     0.0119      0.000     41.057      0.000       0.011       0.013\n",
       "==============================================================================\n",
       "Omnibus:                        0.989   Durbin-Watson:                   2.935\n",
       "Prob(Omnibus):                  0.610   Jarque-Bera (JB):                0.163\n",
       "Skew:                           0.099   Prob(JB):                        0.922\n",
       "Kurtosis:                       3.352   Cond. No.                     2.23e+03\n",
       "==============================================================================\n",
       "\n",
       "Warnings:\n",
       "[1] Standard Errors assume that the covariance matrix of the errors is correctly specified.\n",
       "[2] The condition number is large, 2.23e+03. This might indicate that there are\n",
       "strong multicollinearity or other numerical problems.\n",
       "\"\"\""
      ]
     },
     "execution_count": 192,
     "metadata": {},
     "output_type": "execute_result"
    }
   ],
   "source": [
    "mdl1.summary()"
   ]
  },
  {
   "cell_type": "code",
   "execution_count": 193,
   "metadata": {},
   "outputs": [
    {
     "data": {
      "text/html": [
       "<table class=\"simpletable\">\n",
       "<caption>OLS Regression Results</caption>\n",
       "<tr>\n",
       "  <th>Dep. Variable:</th>         <td>Tenure</td>      <th>  R-squared:         </th> <td>   0.949</td>\n",
       "</tr>\n",
       "<tr>\n",
       "  <th>Model:</th>                   <td>OLS</td>       <th>  Adj. R-squared:    </th> <td>   0.947</td>\n",
       "</tr>\n",
       "<tr>\n",
       "  <th>Method:</th>             <td>Least Squares</td>  <th>  F-statistic:       </th> <td>   848.7</td>\n",
       "</tr>\n",
       "<tr>\n",
       "  <th>Date:</th>             <td>Mon, 08 Feb 2021</td> <th>  Prob (F-statistic):</th> <td>2.72e-31</td>\n",
       "</tr>\n",
       "<tr>\n",
       "  <th>Time:</th>                 <td>14:22:36</td>     <th>  Log-Likelihood:    </th> <td> -123.05</td>\n",
       "</tr>\n",
       "<tr>\n",
       "  <th>No. Observations:</th>      <td>    48</td>      <th>  AIC:               </th> <td>   250.1</td>\n",
       "</tr>\n",
       "<tr>\n",
       "  <th>Df Residuals:</th>          <td>    46</td>      <th>  BIC:               </th> <td>   253.8</td>\n",
       "</tr>\n",
       "<tr>\n",
       "  <th>Df Model:</th>              <td>     1</td>      <th>                     </th>     <td> </td>   \n",
       "</tr>\n",
       "<tr>\n",
       "  <th>Covariance Type:</th>      <td>nonrobust</td>    <th>                     </th>     <td> </td>   \n",
       "</tr>\n",
       "</table>\n",
       "<table class=\"simpletable\">\n",
       "<tr>\n",
       "            <td></td>              <th>coef</th>     <th>std err</th>      <th>t</th>      <th>P>|t|</th>  <th>[0.025</th>    <th>0.975]</th>  \n",
       "</tr>\n",
       "<tr>\n",
       "  <th>Intercept</th>            <td>    9.6534</td> <td>    1.412</td> <td>    6.839</td> <td> 0.000</td> <td>    6.812</td> <td>   12.495</td>\n",
       "</tr>\n",
       "<tr>\n",
       "  <th>Average_total_charge</th> <td>    0.0089</td> <td>    0.000</td> <td>   29.132</td> <td> 0.000</td> <td>    0.008</td> <td>    0.010</td>\n",
       "</tr>\n",
       "</table>\n",
       "<table class=\"simpletable\">\n",
       "<tr>\n",
       "  <th>Omnibus:</th>       <td> 4.955</td> <th>  Durbin-Watson:     </th> <td>   1.601</td>\n",
       "</tr>\n",
       "<tr>\n",
       "  <th>Prob(Omnibus):</th> <td> 0.084</td> <th>  Jarque-Bera (JB):  </th> <td>   4.410</td>\n",
       "</tr>\n",
       "<tr>\n",
       "  <th>Skew:</th>          <td> 0.742</td> <th>  Prob(JB):          </th> <td>   0.110</td>\n",
       "</tr>\n",
       "<tr>\n",
       "  <th>Kurtosis:</th>      <td> 3.028</td> <th>  Cond. No.          </th> <td>1.40e+04</td>\n",
       "</tr>\n",
       "</table><br/><br/>Warnings:<br/>[1] Standard Errors assume that the covariance matrix of the errors is correctly specified.<br/>[2] The condition number is large, 1.4e+04. This might indicate that there are<br/>strong multicollinearity or other numerical problems."
      ],
      "text/plain": [
       "<class 'statsmodels.iolib.summary.Summary'>\n",
       "\"\"\"\n",
       "                            OLS Regression Results                            \n",
       "==============================================================================\n",
       "Dep. Variable:                 Tenure   R-squared:                       0.949\n",
       "Model:                            OLS   Adj. R-squared:                  0.947\n",
       "Method:                 Least Squares   F-statistic:                     848.7\n",
       "Date:                Mon, 08 Feb 2021   Prob (F-statistic):           2.72e-31\n",
       "Time:                        14:22:36   Log-Likelihood:                -123.05\n",
       "No. Observations:                  48   AIC:                             250.1\n",
       "Df Residuals:                      46   BIC:                             253.8\n",
       "Df Model:                           1                                         \n",
       "Covariance Type:            nonrobust                                         \n",
       "========================================================================================\n",
       "                           coef    std err          t      P>|t|      [0.025      0.975]\n",
       "----------------------------------------------------------------------------------------\n",
       "Intercept                9.6534      1.412      6.839      0.000       6.812      12.495\n",
       "Average_total_charge     0.0089      0.000     29.132      0.000       0.008       0.010\n",
       "==============================================================================\n",
       "Omnibus:                        4.955   Durbin-Watson:                   1.601\n",
       "Prob(Omnibus):                  0.084   Jarque-Bera (JB):                4.410\n",
       "Skew:                           0.742   Prob(JB):                        0.110\n",
       "Kurtosis:                       3.028   Cond. No.                     1.40e+04\n",
       "==============================================================================\n",
       "\n",
       "Warnings:\n",
       "[1] Standard Errors assume that the covariance matrix of the errors is correctly specified.\n",
       "[2] The condition number is large, 1.4e+04. This might indicate that there are\n",
       "strong multicollinearity or other numerical problems.\n",
       "\"\"\""
      ]
     },
     "execution_count": 193,
     "metadata": {},
     "output_type": "execute_result"
    }
   ],
   "source": [
    "mdl2.summary()"
   ]
  },
  {
   "cell_type": "markdown",
   "metadata": {},
   "source": [
    "**VI: Let's create a logistic model instead**"
   ]
  },
  {
   "cell_type": "code",
   "execution_count": 210,
   "metadata": {},
   "outputs": [
    {
     "data": {
      "image/png": "[encoded data removed]",
      "text/plain": [
       "<Figure size 1440x720 with 1 Axes>"
      ]
     },
     "metadata": {},
     "output_type": "display_data"
    }
   ],
   "source": [
    "from sklearn import linear_model\n",
    "logreg = linear_model.LogisticRegression()\n",
    "X = total_vs_tenure[[\"Average_total_charge\"]]\n",
    "y = total_vs_tenure.Tenure\n",
    "logreg.fit(X,y)\n",
    "\n",
    "from sklearn.preprocessing import PolynomialFeatures\n",
    "from sklearn.linear_model import LinearRegression \n",
    "\n",
    "pre_process = PolynomialFeatures(degree=2)\n",
    "X_poly = pre_process.fit_transform(X)\n",
    "\n",
    "pr_model = LinearRegression()\n",
    "pr_model.fit(X_poly, y)\n",
    "y_pred = pr_model.predict(X_poly)\n",
    "\n",
    "fig = plt.figure(figsize=(20,10))\n",
    "plt.scatter(X, y, c=\"black\")\n",
    "plt.xlabel(\"Total Charges\")\n",
    "plt.ylabel(\"Tenure\")\n",
    "plt.title(\"Tenure by Total Charges\")\n",
    "plt.plot(X, y_pred)\n",
    "plt.savefig('LogReg.png')\n",
    "plt.show()"
   ]
  },
  {
   "cell_type": "markdown",
   "metadata": {},
   "source": [
    "**VI: PREDICTIONS \\ REGRESSION GUI (GRAPHICAL USER INTERFACE)**"
   ]
  },
  {
   "cell_type": "code",
   "execution_count": 258,
   "metadata": {},
   "outputs": [
    {
     "name": "stdout",
     "output_type": "stream",
     "text": [
      "Intercept: \n",
      " -0.3432679488789745\n",
      "Coefficients: \n",
      " 0.01390687252302325 -5.490573352689243e-07\n"
     ]
    }
   ],
   "source": [
    "import pandas as pd\n",
    "from sklearn import linear_model\n",
    "import tkinter as tk \n",
    "import matplotlib.pyplot as plt\n",
    "from matplotlib.backends.backend_tkagg import FigureCanvasTkAgg\n",
    "from sklearn.preprocessing import PolynomialFeatures\n",
    "from sklearn.linear_model import LinearRegression \n",
    "\n",
    "logreg = linear_model.LogisticRegression()\n",
    "X = total_vs_tenure[[\"Average_total_charge\"]]\n",
    "y = total_vs_tenure.Tenure\n",
    "logreg.fit(X,y)\n",
    "\n",
    "pre_process = PolynomialFeatures(degree=2)\n",
    "X_poly = pre_process.fit_transform(X)\n",
    "\n",
    "pr_model = LinearRegression()\n",
    "pr_model.fit(X_poly, y)\n",
    "y_pred = pr_model.predict(X_poly)\n",
    "\n",
    "theta0 = pr_model.intercept_\n",
    "_, theta1, theta2 = pr_model.coef_\n",
    "\n",
    "print('Intercept: \\n', theta0)\n",
    "print('Coefficients: \\n', theta1, theta2)\n",
    "\n",
    "# tkinter GUI\n",
    "root= tk.Tk()\n",
    "\n",
    "canvas1 = tk.Canvas(root, width = 500, height = 300)\n",
    "canvas1.pack()\n",
    "\n",
    "Intercept_result = ('Intercept: ', theta0)\n",
    "label_Intercept = tk.Label(root, text=Intercept_result, justify = 'center')\n",
    "canvas1.create_window(260, 220, window=label_Intercept)\n",
    "\n",
    "Coefficients_result  = ('Coefficients: ', theta1, theta2)\n",
    "label_Coefficients = tk.Label(root, text=Coefficients_result, justify = 'center')\n",
    "canvas1.create_window(260, 240, window=label_Coefficients)\n",
    "\n",
    "label1 = tk.Label(root, text='Prediction of How Long a customer retains')\n",
    "label1.config(font=('Arial', 15))\n",
    "canvas1.create_window(250, 50, window=label1)\n",
    "\n",
    "# Total Charges label and input box\n",
    "label2 = tk.Label(root, text='Type expected total charges of customer : ')\n",
    "canvas1.create_window(150, 100, window=label2)\n",
    "\n",
    "entry1 = tk.Entry (root) # create entry box\n",
    "canvas1.create_window(330, 100, window=entry1)\n",
    "\n",
    "def pred(v):\n",
    "    return pr_model.predict(pre_process.fit_transform([[v]]))\n",
    "\n",
    "def values(): \n",
    "    global TotalCharges #our input variable\n",
    "    TotalCharges = int(entry1.get()) \n",
    "    \n",
    "    Prediction_result  = ('Predicted tenure of the customer: ', pred(TotalCharges))\n",
    "    label_Prediction = tk.Label(root, text= Prediction_result, bg='yellow')\n",
    "    canvas1.create_window(250, 190, window=label_Prediction)\n",
    "                    \n",
    "      \n",
    "button1 = tk.Button (root, text='Predict tenure of a customer',command=values, bg='orange') # button to call the 'values' command above \n",
    "canvas1.create_window(250, 150, window=button1)\n",
    " \n",
    "root.mainloop()"
   ]
  },
  {
   "cell_type": "code",
   "execution_count": null,
   "metadata": {},
   "outputs": [],
   "source": []
  }
 ],
 "metadata": {
  "kernelspec": {
   "display_name": "Python 3",
   "language": "python",
   "name": "python3"
  },
  "language_info": {
   "codemirror_mode": {
    "name": "ipython",
    "version": 3
   },
   "file_extension": ".py",
   "mimetype": "text/x-python",
   "name": "python",
   "nbconvert_exporter": "python",
   "pygments_lexer": "ipython3",
   "version": "3.8.3"
  }
 },
 "nbformat": 4,
 "nbformat_minor": 4
}
